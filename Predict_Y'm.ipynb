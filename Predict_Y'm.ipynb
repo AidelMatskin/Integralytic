{
 "cells": [
  {
   "cell_type": "code",
   "execution_count": 1,
   "metadata": {},
   "outputs": [],
   "source": [
    "import pandas as pd\n",
    "from sklearn.model_selection import train_test_split\n",
    "from sklearn.neighbors import KNeighborsClassifier\n",
    "from sklearn.metrics import accuracy_score"
   ]
  },
  {
   "cell_type": "code",
   "execution_count": 2,
   "metadata": {},
   "outputs": [],
   "source": [
    "from sklearn.linear_model import LogisticRegression\n"
   ]
  },
  {
   "attachments": {},
   "cell_type": "markdown",
   "metadata": {},
   "source": [
    "OBJECTIVE: The objective of this notebook is to create a model that will predict whether a given person lives in Yerushalayim or not based on certain features."
   ]
  },
  {
   "cell_type": "code",
   "execution_count": 3,
   "metadata": {},
   "outputs": [],
   "source": [
    "apt = pd.read_csv('ApartmentsDataset.csv')"
   ]
  },
  {
   "cell_type": "code",
   "execution_count": 4,
   "metadata": {},
   "outputs": [
    {
     "name": "stdout",
     "output_type": "stream",
     "text": [
      "name 0\n",
      "number of floors in your building 1\n",
      "elevator(y/n) 1\n",
      "number of  apartments in your building 1\n",
      "makolet on your street?(y/n) 1\n",
      "Yerushalyim? (y/n) 1\n"
     ]
    }
   ],
   "source": [
    "for x in apt.columns:\n",
    "    print(x, apt[x].isnull().sum())"
   ]
  },
  {
   "cell_type": "code",
   "execution_count": 5,
   "metadata": {},
   "outputs": [],
   "source": [
    "apt = apt.drop('name', axis=1)"
   ]
  },
  {
   "cell_type": "code",
   "execution_count": 6,
   "metadata": {},
   "outputs": [],
   "source": [
    "apt=apt.dropna()"
   ]
  },
  {
   "cell_type": "code",
   "execution_count": 7,
   "metadata": {},
   "outputs": [
    {
     "name": "stdout",
     "output_type": "stream",
     "text": [
      "number of floors in your building 0\n",
      "elevator(y/n) 0\n",
      "number of  apartments in your building 0\n",
      "makolet on your street?(y/n) 0\n",
      "Yerushalyim? (y/n) 0\n"
     ]
    }
   ],
   "source": [
    "for x in apt.columns:\n",
    "    print(x, apt[x].isnull().sum())"
   ]
  },
  {
   "cell_type": "code",
   "execution_count": 8,
   "metadata": {},
   "outputs": [
    {
     "data": {
      "text/html": [
       "<div>\n",
       "<style scoped>\n",
       "    .dataframe tbody tr th:only-of-type {\n",
       "        vertical-align: middle;\n",
       "    }\n",
       "\n",
       "    .dataframe tbody tr th {\n",
       "        vertical-align: top;\n",
       "    }\n",
       "\n",
       "    .dataframe thead th {\n",
       "        text-align: right;\n",
       "    }\n",
       "</style>\n",
       "<table border=\"1\" class=\"dataframe\">\n",
       "  <thead>\n",
       "    <tr style=\"text-align: right;\">\n",
       "      <th></th>\n",
       "      <th>number of floors in your building</th>\n",
       "      <th>elevator(y/n)</th>\n",
       "      <th>number of  apartments in your building</th>\n",
       "      <th>makolet on your street?(y/n)</th>\n",
       "      <th>Yerushalyim? (y/n)</th>\n",
       "    </tr>\n",
       "  </thead>\n",
       "  <tbody>\n",
       "    <tr>\n",
       "      <th>0</th>\n",
       "      <td>2.0</td>\n",
       "      <td>n</td>\n",
       "      <td>4.0</td>\n",
       "      <td>y</td>\n",
       "      <td>n</td>\n",
       "    </tr>\n",
       "    <tr>\n",
       "      <th>1</th>\n",
       "      <td>4.0</td>\n",
       "      <td>y</td>\n",
       "      <td>16.0</td>\n",
       "      <td>n</td>\n",
       "      <td>y</td>\n",
       "    </tr>\n",
       "    <tr>\n",
       "      <th>2</th>\n",
       "      <td>4.0</td>\n",
       "      <td>n</td>\n",
       "      <td>8.0</td>\n",
       "      <td>n</td>\n",
       "      <td>n</td>\n",
       "    </tr>\n",
       "    <tr>\n",
       "      <th>3</th>\n",
       "      <td>6.0</td>\n",
       "      <td>n</td>\n",
       "      <td>12.0</td>\n",
       "      <td>y</td>\n",
       "      <td>n</td>\n",
       "    </tr>\n",
       "    <tr>\n",
       "      <th>4</th>\n",
       "      <td>6.0</td>\n",
       "      <td>n</td>\n",
       "      <td>28.0</td>\n",
       "      <td>y</td>\n",
       "      <td>y</td>\n",
       "    </tr>\n",
       "  </tbody>\n",
       "</table>\n",
       "</div>"
      ],
      "text/plain": [
       "   number of floors in your building elevator(y/n)  \\\n",
       "0                                2.0             n   \n",
       "1                                4.0             y   \n",
       "2                                4.0             n   \n",
       "3                                6.0             n   \n",
       "4                                6.0             n   \n",
       "\n",
       "   number of  apartments in your building makolet on your street?(y/n)  \\\n",
       "0                                     4.0                            y   \n",
       "1                                    16.0                            n   \n",
       "2                                     8.0                            n   \n",
       "3                                    12.0                            y   \n",
       "4                                    28.0                            y   \n",
       "\n",
       "  Yerushalyim? (y/n)  \n",
       "0                  n  \n",
       "1                 y   \n",
       "2                  n  \n",
       "3                  n  \n",
       "4                  y  "
      ]
     },
     "execution_count": 8,
     "metadata": {},
     "output_type": "execute_result"
    }
   ],
   "source": [
    "apt.head()"
   ]
  },
  {
   "cell_type": "code",
   "execution_count": 9,
   "metadata": {},
   "outputs": [],
   "source": [
    "apt['elevator(y/n)']= apt['elevator(y/n)'].replace('y',1)\n",
    "apt['elevator(y/n)']= apt['elevator(y/n)'].replace('n',0)\n",
    "apt['makolet on your street?(y/n)']= apt['makolet on your street?(y/n)'].replace('y',1)\n",
    "apt['makolet on your street?(y/n)']= apt['makolet on your street?(y/n)'].replace('n',0)\n",
    "apt['Yerushalyim? (y/n)']= apt['Yerushalyim? (y/n)'].replace('y',1)\n",
    "apt['Yerushalyim? (y/n)']= apt['Yerushalyim? (y/n)'].replace('y ',1)\n",
    "apt['Yerushalyim? (y/n)']= apt['Yerushalyim? (y/n)'].replace('n',0)"
   ]
  },
  {
   "cell_type": "code",
   "execution_count": 10,
   "metadata": {},
   "outputs": [
    {
     "data": {
      "text/html": [
       "<div>\n",
       "<style scoped>\n",
       "    .dataframe tbody tr th:only-of-type {\n",
       "        vertical-align: middle;\n",
       "    }\n",
       "\n",
       "    .dataframe tbody tr th {\n",
       "        vertical-align: top;\n",
       "    }\n",
       "\n",
       "    .dataframe thead th {\n",
       "        text-align: right;\n",
       "    }\n",
       "</style>\n",
       "<table border=\"1\" class=\"dataframe\">\n",
       "  <thead>\n",
       "    <tr style=\"text-align: right;\">\n",
       "      <th></th>\n",
       "      <th>number of floors in your building</th>\n",
       "      <th>elevator(y/n)</th>\n",
       "      <th>number of  apartments in your building</th>\n",
       "      <th>makolet on your street?(y/n)</th>\n",
       "      <th>Yerushalyim? (y/n)</th>\n",
       "    </tr>\n",
       "  </thead>\n",
       "  <tbody>\n",
       "    <tr>\n",
       "      <th>0</th>\n",
       "      <td>2.0</td>\n",
       "      <td>0</td>\n",
       "      <td>4.0</td>\n",
       "      <td>1</td>\n",
       "      <td>0</td>\n",
       "    </tr>\n",
       "    <tr>\n",
       "      <th>1</th>\n",
       "      <td>4.0</td>\n",
       "      <td>1</td>\n",
       "      <td>16.0</td>\n",
       "      <td>0</td>\n",
       "      <td>1</td>\n",
       "    </tr>\n",
       "    <tr>\n",
       "      <th>2</th>\n",
       "      <td>4.0</td>\n",
       "      <td>0</td>\n",
       "      <td>8.0</td>\n",
       "      <td>0</td>\n",
       "      <td>0</td>\n",
       "    </tr>\n",
       "    <tr>\n",
       "      <th>3</th>\n",
       "      <td>6.0</td>\n",
       "      <td>0</td>\n",
       "      <td>12.0</td>\n",
       "      <td>1</td>\n",
       "      <td>0</td>\n",
       "    </tr>\n",
       "    <tr>\n",
       "      <th>4</th>\n",
       "      <td>6.0</td>\n",
       "      <td>0</td>\n",
       "      <td>28.0</td>\n",
       "      <td>1</td>\n",
       "      <td>1</td>\n",
       "    </tr>\n",
       "  </tbody>\n",
       "</table>\n",
       "</div>"
      ],
      "text/plain": [
       "   number of floors in your building  elevator(y/n)  \\\n",
       "0                                2.0              0   \n",
       "1                                4.0              1   \n",
       "2                                4.0              0   \n",
       "3                                6.0              0   \n",
       "4                                6.0              0   \n",
       "\n",
       "   number of  apartments in your building  makolet on your street?(y/n)  \\\n",
       "0                                     4.0                             1   \n",
       "1                                    16.0                             0   \n",
       "2                                     8.0                             0   \n",
       "3                                    12.0                             1   \n",
       "4                                    28.0                             1   \n",
       "\n",
       "   Yerushalyim? (y/n)  \n",
       "0                   0  \n",
       "1                   1  \n",
       "2                   0  \n",
       "3                   0  \n",
       "4                   1  "
      ]
     },
     "execution_count": 10,
     "metadata": {},
     "output_type": "execute_result"
    }
   ],
   "source": [
    "apt.head()\n"
   ]
  },
  {
   "cell_type": "code",
   "execution_count": 11,
   "metadata": {},
   "outputs": [
    {
     "data": {
      "text/html": [
       "<div>\n",
       "<style scoped>\n",
       "    .dataframe tbody tr th:only-of-type {\n",
       "        vertical-align: middle;\n",
       "    }\n",
       "\n",
       "    .dataframe tbody tr th {\n",
       "        vertical-align: top;\n",
       "    }\n",
       "\n",
       "    .dataframe thead th {\n",
       "        text-align: right;\n",
       "    }\n",
       "</style>\n",
       "<table border=\"1\" class=\"dataframe\">\n",
       "  <thead>\n",
       "    <tr style=\"text-align: right;\">\n",
       "      <th></th>\n",
       "      <th>number of floors in your building</th>\n",
       "      <th>elevator(y/n)</th>\n",
       "      <th>number of  apartments in your building</th>\n",
       "      <th>makolet on your street?(y/n)</th>\n",
       "      <th>Yerushalyim? (y/n)</th>\n",
       "    </tr>\n",
       "  </thead>\n",
       "  <tbody>\n",
       "    <tr>\n",
       "      <th>count</th>\n",
       "      <td>52.000000</td>\n",
       "      <td>52.000000</td>\n",
       "      <td>52.000000</td>\n",
       "      <td>52.000000</td>\n",
       "      <td>52.000000</td>\n",
       "    </tr>\n",
       "    <tr>\n",
       "      <th>mean</th>\n",
       "      <td>4.875000</td>\n",
       "      <td>0.326923</td>\n",
       "      <td>16.673077</td>\n",
       "      <td>0.615385</td>\n",
       "      <td>0.846154</td>\n",
       "    </tr>\n",
       "    <tr>\n",
       "      <th>std</th>\n",
       "      <td>1.647562</td>\n",
       "      <td>0.473665</td>\n",
       "      <td>9.873159</td>\n",
       "      <td>0.491251</td>\n",
       "      <td>0.364321</td>\n",
       "    </tr>\n",
       "    <tr>\n",
       "      <th>min</th>\n",
       "      <td>2.000000</td>\n",
       "      <td>0.000000</td>\n",
       "      <td>3.000000</td>\n",
       "      <td>0.000000</td>\n",
       "      <td>0.000000</td>\n",
       "    </tr>\n",
       "    <tr>\n",
       "      <th>25%</th>\n",
       "      <td>3.875000</td>\n",
       "      <td>0.000000</td>\n",
       "      <td>8.750000</td>\n",
       "      <td>0.000000</td>\n",
       "      <td>1.000000</td>\n",
       "    </tr>\n",
       "    <tr>\n",
       "      <th>50%</th>\n",
       "      <td>5.000000</td>\n",
       "      <td>0.000000</td>\n",
       "      <td>15.000000</td>\n",
       "      <td>1.000000</td>\n",
       "      <td>1.000000</td>\n",
       "    </tr>\n",
       "    <tr>\n",
       "      <th>75%</th>\n",
       "      <td>6.000000</td>\n",
       "      <td>1.000000</td>\n",
       "      <td>25.000000</td>\n",
       "      <td>1.000000</td>\n",
       "      <td>1.000000</td>\n",
       "    </tr>\n",
       "    <tr>\n",
       "      <th>max</th>\n",
       "      <td>8.000000</td>\n",
       "      <td>1.000000</td>\n",
       "      <td>40.000000</td>\n",
       "      <td>1.000000</td>\n",
       "      <td>1.000000</td>\n",
       "    </tr>\n",
       "  </tbody>\n",
       "</table>\n",
       "</div>"
      ],
      "text/plain": [
       "       number of floors in your building  elevator(y/n)  \\\n",
       "count                          52.000000      52.000000   \n",
       "mean                            4.875000       0.326923   \n",
       "std                             1.647562       0.473665   \n",
       "min                             2.000000       0.000000   \n",
       "25%                             3.875000       0.000000   \n",
       "50%                             5.000000       0.000000   \n",
       "75%                             6.000000       1.000000   \n",
       "max                             8.000000       1.000000   \n",
       "\n",
       "       number of  apartments in your building  makolet on your street?(y/n)  \\\n",
       "count                               52.000000                     52.000000   \n",
       "mean                                16.673077                      0.615385   \n",
       "std                                  9.873159                      0.491251   \n",
       "min                                  3.000000                      0.000000   \n",
       "25%                                  8.750000                      0.000000   \n",
       "50%                                 15.000000                      1.000000   \n",
       "75%                                 25.000000                      1.000000   \n",
       "max                                 40.000000                      1.000000   \n",
       "\n",
       "       Yerushalyim? (y/n)  \n",
       "count           52.000000  \n",
       "mean             0.846154  \n",
       "std              0.364321  \n",
       "min              0.000000  \n",
       "25%              1.000000  \n",
       "50%              1.000000  \n",
       "75%              1.000000  \n",
       "max              1.000000  "
      ]
     },
     "execution_count": 11,
     "metadata": {},
     "output_type": "execute_result"
    }
   ],
   "source": [
    "apt.describe()"
   ]
  },
  {
   "cell_type": "code",
   "execution_count": 12,
   "metadata": {},
   "outputs": [
    {
     "name": "stdout",
     "output_type": "stream",
     "text": [
      "2.0     3\n",
      "3.0     9\n",
      "3.5     1\n",
      "4.0     9\n",
      "5.0    11\n",
      "6.0    12\n",
      "7.0     2\n",
      "8.0     5\n",
      "Name: number of floors in your building, dtype: int64\n",
      "0    35\n",
      "1    17\n",
      "Name: elevator(y/n), dtype: int64\n",
      "3.0     4\n",
      "4.0     2\n",
      "6.0     2\n",
      "7.0     1\n",
      "8.0     4\n",
      "9.0     2\n",
      "10.0    3\n",
      "11.0    1\n",
      "12.0    2\n",
      "13.0    1\n",
      "14.0    3\n",
      "15.0    3\n",
      "16.0    4\n",
      "18.0    2\n",
      "21.0    1\n",
      "24.0    3\n",
      "25.0    3\n",
      "28.0    4\n",
      "30.0    2\n",
      "32.0    1\n",
      "33.0    2\n",
      "35.0    1\n",
      "40.0    1\n",
      "Name: number of  apartments in your building, dtype: int64\n",
      "0    20\n",
      "1    32\n",
      "Name: makolet on your street?(y/n), dtype: int64\n",
      "0     8\n",
      "1    44\n",
      "Name: Yerushalyim? (y/n), dtype: int64\n"
     ]
    }
   ],
   "source": [
    "for x in apt.columns:\n",
    "    print(apt[x].value_counts().sort_index())"
   ]
  },
  {
   "attachments": {},
   "cell_type": "markdown",
   "metadata": {},
   "source": [
    "It appears that 2/3 have elevators; majority have over 10 apts per building; most common is 3-6 floors; vast majority live in Yerushalyim; "
   ]
  },
  {
   "cell_type": "code",
   "execution_count": 13,
   "metadata": {},
   "outputs": [],
   "source": [
    "apt.rename(columns={'number of floors in your building': 'floors', 'elevator(y/n)': 'elevator', 'number of apartments in your building': 'apts', 'makolet on your street?(y/n)': 'makolet', 'Yerushalyim? (y/n)': 'yerushalyim'}, inplace=True)"
   ]
  },
  {
   "cell_type": "code",
   "execution_count": 14,
   "metadata": {},
   "outputs": [],
   "source": [
    "X= apt.drop('yerushalyim', axis=1)\n",
    "y= apt['yerushalyim']"
   ]
  },
  {
   "cell_type": "code",
   "execution_count": 15,
   "metadata": {},
   "outputs": [],
   "source": [
    "X_train, X_test, y_train, y_test= train_test_split(X, y)"
   ]
  },
  {
   "cell_type": "code",
   "execution_count": 21,
   "metadata": {},
   "outputs": [
    {
     "name": "stdout",
     "output_type": "stream",
     "text": [
      "[1 1 1 1 1 1 1 1 1 1 1 1 1]\n"
     ]
    }
   ],
   "source": [
    "model = LogisticRegression(max_iter= 500, penalty='l2',C=.5)\n",
    "model.fit(X_train, y_train)\n",
    "pred= model.predict(X_test)\n",
    "print(pred)"
   ]
  },
  {
   "cell_type": "code",
   "execution_count": 23,
   "metadata": {},
   "outputs": [
    {
     "name": "stdout",
     "output_type": "stream",
     "text": [
      "0.9230769230769231\n"
     ]
    }
   ],
   "source": [
    "accuracy = accuracy_score(y_test, pred)\n",
    "print(accuracy)"
   ]
  },
  {
   "attachments": {},
   "cell_type": "markdown",
   "metadata": {},
   "source": [
    "In order to improve the model, one can add more rows of data to better train and test the model.  One can also add more features that directly correlate with the target."
   ]
  }
 ],
 "metadata": {
  "kernelspec": {
   "display_name": "base",
   "language": "python",
   "name": "python3"
  },
  "language_info": {
   "codemirror_mode": {
    "name": "ipython",
    "version": 3
   },
   "file_extension": ".py",
   "mimetype": "text/x-python",
   "name": "python",
   "nbconvert_exporter": "python",
   "pygments_lexer": "ipython3",
   "version": "3.9.13"
  },
  "orig_nbformat": 4
 },
 "nbformat": 4,
 "nbformat_minor": 2
}

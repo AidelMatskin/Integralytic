{
 "cells": [
  {
   "cell_type": "code",
   "execution_count": 1,
   "metadata": {},
   "outputs": [],
   "source": [
    "import requests\n",
    "import pandas as pd\n",
    "from pandas import json_normalize\n"
   ]
  },
  {
   "cell_type": "code",
   "execution_count": 2,
   "metadata": {},
   "outputs": [],
   "source": [
    "#prompts user to input which perek they want saved into their new file\n",
    "number = input(\"Which Perek of Kohelet (1-12) would you like to print?\")"
   ]
  },
  {
   "cell_type": "code",
   "execution_count": 3,
   "metadata": {},
   "outputs": [],
   "source": [
    "#Pulls that perek from sefaria\n",
    "url = f\"http://www.sefaria.org/api/texts/Kohelet.{number}?context=0\""
   ]
  },
  {
   "cell_type": "code",
   "execution_count": 4,
   "metadata": {},
   "outputs": [
    {
     "name": "stderr",
     "output_type": "stream",
     "text": [
      "c:\\Users\\Aidel\\anaconda3\\lib\\site-packages\\urllib3\\connectionpool.py:1045: InsecureRequestWarning: Unverified HTTPS request is being made to host 'www.sefaria.org'. Adding certificate verification is strongly advised. See: https://urllib3.readthedocs.io/en/1.26.x/advanced-usage.html#ssl-warnings\n",
      "  warnings.warn(\n"
     ]
    }
   ],
   "source": [
    "#creates a txt document with that perek and saves it under Kohelet+perek_number\n",
    "response = requests.get(url, verify=False)\n",
    "json_file = response.json()\n",
    "pd.set_option(\"display.max_colwidth\", None)\n",
    "df = json_normalize(json_file)\n",
    "hebrew = df['he'].to_string()\n",
    "\n",
    "file_name = f\"Kohelet{number}.txt\"\n",
    "file = open(file_name, \"w\")\n",
    "file.write(hebrew)\n",
    "file.close()"
   ]
  }
 ],
 "metadata": {
  "kernelspec": {
   "display_name": "base",
   "language": "python",
   "name": "python3"
  },
  "language_info": {
   "codemirror_mode": {
    "name": "ipython",
    "version": 3
   },
   "file_extension": ".py",
   "mimetype": "text/x-python",
   "name": "python",
   "nbconvert_exporter": "python",
   "pygments_lexer": "ipython3",
   "version": "3.9.13"
  },
  "orig_nbformat": 4
 },
 "nbformat": 4,
 "nbformat_minor": 2
}
